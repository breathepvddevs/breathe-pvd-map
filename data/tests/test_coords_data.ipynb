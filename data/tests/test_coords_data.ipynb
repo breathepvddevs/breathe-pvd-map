{
 "cells": [
  {
   "cell_type": "code",
   "execution_count": 1,
   "metadata": {},
   "outputs": [],
   "source": [
    "import pandas as pd"
   ]
  },
  {
   "cell_type": "code",
   "execution_count": 19,
   "metadata": {},
   "outputs": [
    {
     "name": "stdout",
     "output_type": "stream",
     "text": [
      "21\n"
     ]
    }
   ],
   "source": [
    "## This data was pulled at 22:39:00\n",
    "df = pd.read_csv('coords.csv')\n",
    "\n",
    "#total number of sites, lenght of node id\n",
    "total_len = len(df['Node ID'].unique())\n",
    "print(total_len)"
   ]
  },
  {
   "cell_type": "code",
   "execution_count": 34,
   "metadata": {},
   "outputs": [
    {
     "name": "stdout",
     "output_type": "stream",
     "text": [
      "['Anthony Carnevale Elementary' 'E-Cubed Academy Senior High'\n",
      " 'Rochambeau Library' 'West End Community Center' 'United Way'\n",
      " 'CCRI - Liston Campus' 'South Providence Library' 'Blackstone Residence']\n",
      "8\n",
      "Anthony Carnevale Elementary\n",
      "E-Cubed Academy Senior High\n",
      "Rochambeau Library\n",
      "West End Community Center\n",
      "United Way\n",
      "CCRI - Liston Campus\n",
      "South Providence Library\n",
      "Blackstone Residence\n",
      "Total of sites reporting null data for this time: 8/21\n"
     ]
    }
   ],
   "source": [
    "# These are the nodes consistantly reporting null values\n",
    "\n",
    "#get all the locations that have rows that have -1 reading for co2_corrected and have no other non -1 values for co2_corrected\n",
    "negative_data = df[df['co2_corrected'] == -1]\n",
    "null_locations = negative_data['Location'].unique()\n",
    "print(null_locations)\n",
    "print(len(negative_data['Node ID'].unique()))\n",
    "\n",
    "# These are the nodes that have no data\n",
    "null_locations = negative_data['Location'].unique()\n",
    "len_null = len(null_locations)\n",
    "for null in null_locations:\n",
    "    print(null)\n",
    "print('Total of sites reporting null data for this time: ' + str(len_null) + \"/\" + str(total_len))\n",
    "\n",
    "\n"
   ]
  },
  {
   "cell_type": "code",
   "execution_count": 25,
   "metadata": {},
   "outputs": [
    {
     "name": "stdout",
     "output_type": "stream",
     "text": [
      "This was the most recent time:  2023-05-16 21:00:00\n",
      "   \n",
      "Data Displaying from 2023-05-16 21:00:00\n",
      "Total of sites reporting data at this hour: 11/21\n",
      "Main Street Martial Arts\n",
      "Rhode Island College\n",
      "Silver Lake Residence\n",
      "Providence College\n",
      "Department of Public Works\n",
      "Rock Spot\n",
      "Reservoir Ave Elementary\n",
      "Zuccolo Recreation Center\n",
      "Alpert Medical School\n",
      "Myron J. Francis Elementary\n",
      "Brown-Fox Point Early Childhood Education Center\n"
     ]
    }
   ],
   "source": [
    "\n",
    "# get the time ranges all of the data\n",
    "print(\"This was the most recent time: \", df['datetime'].max())\n",
    "\n",
    "# print the nodes that have 2023-05-16 21:00:00 as the datetime\n",
    "recent_df = df[df['datetime'] == '2023-05-16 21:00:00']\n",
    "print(\"   \")\n",
    "\n",
    "###\n",
    "recent_lst = list(set(recent_df['Location']))\n",
    "recent_len = len(recent_lst)\n",
    "print(\"Data Displaying from 2023-05-16 21:00:00\")\n",
    "print('Total of sites reporting data at this hour: ' + str(recent_len) + \"/\" + str(total_len))\n",
    "\n",
    "for site in recent_lst:\n",
    "    print(site)\n",
    "\n",
    "\n",
    "\n",
    "##\n"
   ]
  },
  {
   "cell_type": "code",
   "execution_count": 28,
   "metadata": {},
   "outputs": [
    {
     "name": "stdout",
     "output_type": "stream",
     "text": [
      "Data Displaying from 2023-05-16 21:00:00\n",
      "Total of sites reporting data at this hour: 1/21\n",
      "Providence Housing Authority  \n"
     ]
    }
   ],
   "source": [
    "#find the nodes that do not report data for '2023-05-16 21:00:00', check what is the other latest time that they are reporting data for \n",
    "prev_hour_data = df[df['datetime'] == '2023-05-16 20:00:00']\n",
    "prev_hour_nodes = prev_hour_data['Node ID'].unique()\n",
    "missing_hour_data = df[(df['datetime'] != '2023-05-16 21:00:00') & (~df['Node ID'].isin(prev_hour_nodes)) & (df['co2_corrected'] != -1)]\n",
    "missing_locations = missing_hour_data['Location'].unique()\n",
    "\n",
    "\n",
    "####\n",
    "recent_len = len(missing_locations)\n",
    "print(\"Data Displaying from 2023-05-16 20:00:00\")\n",
    "print('Total of sites reporting data at this hour: ' + str(recent_len) + \"/\" + str(total_len))\n",
    "print(missing_locations[0])\n",
    "\n"
   ]
  },
  {
   "cell_type": "code",
   "execution_count": 39,
   "metadata": {},
   "outputs": [
    {
     "name": "stdout",
     "output_type": "stream",
     "text": [
      "                datetime  co2_corrected       temp Sensor ID  Node ID  \\\n",
      "0    2023-05-15 22:00:00          456.0  18.748302   Bs12202      250   \n",
      "1    2023-05-15 23:00:00          451.0  17.929473   Bs12202      250   \n",
      "2    2023-05-16 00:00:00          444.0  19.146099   Bs12202      250   \n",
      "3    2023-05-16 01:00:00          446.0  18.917608   Bs12202      250   \n",
      "4    2023-05-16 02:00:00          449.0  18.752035   Bs12202      250   \n",
      "..                   ...            ...        ...       ...      ...   \n",
      "298                   -1           -1.0  -1.000000  Bs112202      252   \n",
      "299                   -1           -1.0  -1.000000  Bs122202      255   \n",
      "300                   -1           -1.0  -1.000000  Bs142202      259   \n",
      "301                   -1           -1.0  -1.000000  Bs162202      263   \n",
      "302                   -1           -1.0  -1.000000  Bs172202      266   \n",
      "\n",
      "                        Location  Latitude  Longitude Installation Date  \n",
      "0    Myron J. Francis Elementary  41.84094  -71.36093         7/11/2022  \n",
      "1    Myron J. Francis Elementary  41.84094  -71.36093         7/11/2022  \n",
      "2    Myron J. Francis Elementary  41.84094  -71.36093         7/11/2022  \n",
      "3    Myron J. Francis Elementary  41.84094  -71.36093         7/11/2022  \n",
      "4    Myron J. Francis Elementary  41.84094  -71.36093         7/11/2022  \n",
      "..                           ...       ...        ...               ...  \n",
      "298    West End Community Center  41.80439  -71.42825          9/2/2022  \n",
      "299                   United Way  41.81803  -71.44121        11/19/2022  \n",
      "300         CCRI - Liston Campus  41.80745  -71.41341        10/27/2022  \n",
      "301     South Providence Library  41.80205  -71.41378         8/25/2022  \n",
      "302         Blackstone Residence  41.83551  -71.38335          3/6/2023  \n",
      "\n",
      "[303 rows x 9 columns]\n"
     ]
    }
   ],
   "source": [
    "\n",
    "\n",
    "# Get back to this,\n",
    "most_recent_datetime = df.groupby('Node ID')['datetime'].max().reset_index()\n",
    "\n",
    "filtered_data = df[df['Node ID'].isin(most_recent_datetime['Node ID'])]\n",
    "\n",
    "missing_mask = ~filtered_data['datetime'].eq(most_recent_datetime.set_index('Node ID')['datetime'])\n",
    "missing_data = filtered_data[missing_mask]\n",
    "\n",
    "print(missing_data)\n",
    "\n",
    "most_recent_values = missing_data.groupby('Location')['co2_corrected'].last()\n",
    "\n",
    "#print(most_recent_values)\n"
   ]
  }
 ],
 "metadata": {
  "kernelspec": {
   "display_name": "cs1951a_venv",
   "language": "python",
   "name": "python3"
  },
  "language_info": {
   "codemirror_mode": {
    "name": "ipython",
    "version": 3
   },
   "file_extension": ".py",
   "mimetype": "text/x-python",
   "name": "python",
   "nbconvert_exporter": "python",
   "pygments_lexer": "ipython3",
   "version": "3.7.3"
  },
  "orig_nbformat": 4
 },
 "nbformat": 4,
 "nbformat_minor": 2
}
